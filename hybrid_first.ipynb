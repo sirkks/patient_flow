{
  "cells": [
    {
      "cell_type": "code",
      "source": [
        "from azureml.core import Workspace, Dataset\r\n",
        "import matplotlib.pyplot as plt\r\n",
        "import numpy as np\r\n",
        "import pandas as pd\r\n",
        "from datetime import timedelta\r\n",
        "import datetime\r\n",
        "import pickle\r\n",
        "from random import seed\r\n",
        "from random import random"
      ],
      "outputs": [],
      "execution_count": 1,
      "metadata": {
        "gather": {
          "logged": 1681127034668
        }
      }
    },
    {
      "cell_type": "markdown",
      "source": [
        "# Päiväkohtainen ennuste 22.1.-11.2.2019"
      ],
      "metadata": {
        "nteract": {
          "transient": {
            "deleting": false
          }
        }
      }
    },
    {
      "cell_type": "code",
      "source": [
        "start = pd.Timestamp('2018-11-01T00') # Siirtymätodennäköisyyksien laskemisen aloituspäivä\r\n",
        "#start_L1 = pd.Timestamp('2018-12-01T00')\r\n",
        "start_day = pd.Timestamp('2019-01-01T00') # Ennusteajankohta\r\n",
        "train_test_day = pd.Timestamp('2019-01-01')\r\n",
        "end = pd.Timestamp('2019-05-01T00')"
      ],
      "outputs": [],
      "execution_count": 2,
      "metadata": {
        "jupyter": {
          "source_hidden": false,
          "outputs_hidden": false
        },
        "nteract": {
          "transient": {
            "deleting": false
          }
        },
        "gather": {
          "logged": 1681127035177
        }
      }
    },
    {
      "cell_type": "markdown",
      "source": [
        "## Lasten päivystys"
      ],
      "metadata": {
        "nteract": {
          "transient": {
            "deleting": false
          }
        }
      }
    },
    {
      "cell_type": "code",
      "source": [
        "subscription_id = '4371739e-d07f-42d5-a3a6-efa120c1e246'\r\n",
        "resource_group = 'husfd-tu-dip-potilasvirrat'\r\n",
        "workspace_name = 'husfd-tu-dip-potilasvirrat-ml'\r\n",
        "\r\n",
        "workspace = Workspace(subscription_id, resource_group, workspace_name)\r\n",
        "\r\n",
        "dataset = Dataset.get_by_name(workspace, name='uranus27_1')\r\n",
        "features = ['kaynti_numero', 'potilasnumero', 'henkilotunnus', 'alkuhetki', 'loppuhetki',\r\n",
        "       'vo_toimipiste_nimi', 'kayntityyppi_selite', 'varaustyyppi_selite',\r\n",
        "       'mista_tuli_selite', 'res_koodi', 'res_selite', 'jh_selite', \r\n",
        "       'jatkoh_laitos_nimi', 'jatkoh_toimipiste_nimi']\r\n",
        "df = dataset.to_pandas_dataframe()[features]\r\n",
        "df.dropna(subset=['alkuhetki', 'loppuhetki'], inplace=True)\r\n",
        "df.drop_duplicates(subset='kaynti_numero', inplace=True)\r\n",
        "df = df[df['varaustyyppi_selite'] != 'PÄIV PKL soitto']\r\n",
        "df = df[(df['kayntityyppi_selite'] != 'Hoitokäynti') & (df['kayntityyppi_selite'] != 'Ohjattu muualle') & (df['kayntityyppi_selite'] !='HYKSin Oy:n potilas') & (df['kayntityyppi_selite'] != 'Sarjahoitokäynti') & (df['kayntityyppi_selite'] != 'Ensikäynti')]\r\n",
        "df = df[(df.alkuhetki >= start) & (df.alkuhetki < end)]\r\n",
        "df_train = df[df.alkuhetki < train_test_day]\r\n",
        "df_test = df[df.alkuhetki >= train_test_day]\r\n",
        "pd.set_option('display.max_columns', None)\r\n",
        "df_train = df_train.sort_values(by='alkuhetki')\r\n",
        "#df_train.head()"
      ],
      "outputs": [
        {
          "output_type": "stream",
          "name": "stderr",
          "text": "Failed to extract subscription information, Exception=AttributeError; 'Logger' object has no attribute 'activity_info'\nFailed to extract subscription information, Exception=AttributeError; 'Logger' object has no attribute 'activity_info'\nFailed to extract subscription information, Exception=AttributeError; 'Logger' object has no attribute 'activity_info'\nFailed to extract subscription information, Exception=AttributeError; 'Logger' object has no attribute 'activity_info'\nFailed to extract subscription information, Exception=AttributeError; 'Logger' object has no attribute 'activity_info'\nFailed to extract subscription information, Exception=AttributeError; 'Logger' object has no attribute 'activity_info'\n"
        }
      ],
      "execution_count": 3,
      "metadata": {
        "jupyter": {
          "source_hidden": false,
          "outputs_hidden": false
        },
        "nteract": {
          "transient": {
            "deleting": false
          }
        },
        "gather": {
          "logged": 1681127037749
        }
      }
    },
    {
      "cell_type": "markdown",
      "source": [
        "## L1-osasto"
      ],
      "metadata": {
        "nteract": {
          "transient": {
            "deleting": false
          }
        }
      }
    },
    {
      "cell_type": "code",
      "source": [
        "subscription_id = '4371739e-d07f-42d5-a3a6-efa120c1e246'\r\n",
        "resource_group = 'husfd-tu-dip-potilasvirrat'\r\n",
        "workspace_name = 'husfd-tu-dip-potilasvirrat-ml'\r\n",
        "\r\n",
        "workspace = Workspace(subscription_id, resource_group, workspace_name)\r\n",
        "\r\n",
        "dataset_ward = Dataset.get_by_name(workspace, name='uranus27_2')\r\n",
        "features_ward = ['henkilotunnus', 'alkuhetki', 'loppuhetki', 'vo_toimipiste_nimi', 'pot_eala_selite', 'paadg_oire_selite', 'mista_lah_tuli_koodi',\r\n",
        "       'mista_lah_tuli_nimi', 'mista_tuli_koodi', 'mista_tuli_selite', 'jatkoh_laitos_nimi',\r\n",
        "       'jatkoh_toimipiste_nimi', 'jh_koodi', 'jh_selite', 'osastohoito_numero', 'shjakso_numero']\r\n",
        "ward = dataset_ward.to_pandas_dataframe()[features_ward]\r\n",
        "ward.replace(\"\", float(\"NaN\"), inplace=True)\r\n",
        "ward.dropna(subset=['alkuhetki', 'loppuhetki'], inplace=True)\r\n",
        "ward.drop_duplicates(subset='osastohoito_numero', inplace=True)\r\n",
        "ward = ward[(ward.alkuhetki >= start) & (ward.alkuhetki < end)]\r\n",
        "ward_train = ward[ward.alkuhetki < train_test_day]\r\n",
        "ward_test = ward[ward.alkuhetki >= train_test_day]\r\n",
        "pd.set_option('display.max_columns', None)\r\n",
        "ward_train = ward_train.sort_values(by='alkuhetki')\r\n",
        "#ward_train.head()"
      ],
      "outputs": [
        {
          "output_type": "stream",
          "name": "stderr",
          "text": "Failed to extract subscription information, Exception=AttributeError; 'Logger' object has no attribute 'activity_info'\nFailed to extract subscription information, Exception=AttributeError; 'Logger' object has no attribute 'activity_info'\nFailed to extract subscription information, Exception=AttributeError; 'Logger' object has no attribute 'activity_info'\nFailed to extract subscription information, Exception=AttributeError; 'Logger' object has no attribute 'activity_info'\nFailed to extract subscription information, Exception=AttributeError; 'Logger' object has no attribute 'activity_info'\nFailed to extract subscription information, Exception=AttributeError; 'Logger' object has no attribute 'activity_info'\n/tmp/ipykernel_90013/2804151757.py:12: SettingWithCopyWarning: \nA value is trying to be set on a copy of a slice from a DataFrame\n\nSee the caveats in the documentation: https://pandas.pydata.org/pandas-docs/stable/user_guide/indexing.html#returning-a-view-versus-a-copy\n  ward.replace(\"\", float(\"NaN\"), inplace=True)\n/tmp/ipykernel_90013/2804151757.py:13: SettingWithCopyWarning: \nA value is trying to be set on a copy of a slice from a DataFrame\n\nSee the caveats in the documentation: https://pandas.pydata.org/pandas-docs/stable/user_guide/indexing.html#returning-a-view-versus-a-copy\n  ward.dropna(subset=['alkuhetki', 'loppuhetki'], inplace=True)\n/tmp/ipykernel_90013/2804151757.py:14: SettingWithCopyWarning: \nA value is trying to be set on a copy of a slice from a DataFrame\n\nSee the caveats in the documentation: https://pandas.pydata.org/pandas-docs/stable/user_guide/indexing.html#returning-a-view-versus-a-copy\n  ward.drop_duplicates(subset='osastohoito_numero', inplace=True)\n"
        }
      ],
      "execution_count": 4,
      "metadata": {
        "jupyter": {
          "source_hidden": false,
          "outputs_hidden": false
        },
        "nteract": {
          "transient": {
            "deleting": false
          }
        },
        "gather": {
          "logged": 1681127038422
        }
      }
    },
    {
      "cell_type": "code",
      "source": [
        "df_train.kayntityyppi_selite.unique()"
      ],
      "outputs": [
        {
          "output_type": "execute_result",
          "execution_count": 5,
          "data": {
            "text/plain": "array(['Päivystys', 'Uusintakäynti', 'Lisäkäynti', 'Tk-päivystys',\n       'Tk-hoitokäynti', 'Poistunut hoidott'], dtype=object)"
          },
          "metadata": {}
        }
      ],
      "execution_count": 5,
      "metadata": {
        "jupyter": {
          "source_hidden": false,
          "outputs_hidden": false
        },
        "nteract": {
          "transient": {
            "deleting": false
          }
        },
        "gather": {
          "logged": 1681127040056
        }
      }
    },
    {
      "cell_type": "code",
      "source": [
        "df_train['alkuhetki'] = pd.to_datetime(df_train['alkuhetki'], format=\"%Y-%m-%d %H:%M:%S\")\r\n",
        "df_train['loppuhetki'] = pd.to_datetime(df_train['loppuhetki'], format=\"%Y-%m-%d %H:%M:%S\")\r\n",
        "df_train = df_train[df_train['alkuhetki'] <= df_train['loppuhetki']]\r\n",
        "df_train['aikaväli'] = pd.arrays.IntervalArray.from_arrays(left = df_train['alkuhetki'], right = df_train['loppuhetki'], closed='neither')\r\n",
        "df_train['palveluaika'] = ((df_train['loppuhetki'] - df_train['alkuhetki']).astype('timedelta64[s]') / 3600)\r\n",
        "df_train['alku'] = df_train.alkuhetki\r\n",
        "df_train['loppu'] = df_train.loppuhetki"
      ],
      "outputs": [],
      "execution_count": 6,
      "metadata": {
        "jupyter": {
          "source_hidden": false,
          "outputs_hidden": false
        },
        "nteract": {
          "transient": {
            "deleting": false
          }
        },
        "gather": {
          "logged": 1681127040524
        }
      }
    },
    {
      "cell_type": "code",
      "source": [
        "df['alkuhetki'] = pd.to_datetime(df['alkuhetki'], format=\"%Y-%m-%d %H:%M:%S\")\r\n",
        "df['loppuhetki'] = pd.to_datetime(df['loppuhetki'], format=\"%Y-%m-%d %H:%M:%S\")\r\n",
        "df = df[df['alkuhetki'] <= df['loppuhetki']]\r\n",
        "df['aikaväli'] = pd.arrays.IntervalArray.from_arrays(left = df['alkuhetki'], right = df['loppuhetki'], closed='neither')\r\n",
        "df['palveluaika'] = ((df['loppuhetki'] - df['alkuhetki']).astype('timedelta64[s]') / 3600)"
      ],
      "outputs": [],
      "execution_count": 7,
      "metadata": {
        "jupyter": {
          "source_hidden": false,
          "outputs_hidden": false
        },
        "nteract": {
          "transient": {
            "deleting": false
          }
        },
        "gather": {
          "logged": 1681127040812
        }
      }
    },
    {
      "cell_type": "code",
      "source": [
        "ward_train['alkuhetki'] = pd.to_datetime(ward_train['alkuhetki'], format=\"%Y-%m-%d %H:%M:%S\")\r\n",
        "ward_train['loppuhetki'] = pd.to_datetime(ward_train['loppuhetki'], format=\"%Y-%m-%d %H:%M:%S\")\r\n",
        "ward_train = ward_train[ward_train['alkuhetki'] <= ward_train['loppuhetki']]\r\n",
        "ward_train['aikaväli'] = pd.arrays.IntervalArray.from_arrays(left = ward_train['alkuhetki'], right = ward_train['loppuhetki'], closed='neither')\r\n",
        "ward_train['palveluaika'] = np.round(((ward_train['loppuhetki'] - ward_train['alkuhetki']).astype('timedelta64[s]') / 3600 / 24))\r\n",
        "ward_train['alku'] = ward_train.alkuhetki\r\n",
        "ward_train['loppu'] = ward_train.loppuhetki\r\n",
        "ward_train.reset_index(drop=True, inplace=True)\r\n"
      ],
      "outputs": [],
      "execution_count": 8,
      "metadata": {
        "jupyter": {
          "source_hidden": false,
          "outputs_hidden": false
        },
        "nteract": {
          "transient": {
            "deleting": false
          }
        },
        "gather": {
          "logged": 1681127041105
        }
      }
    },
    {
      "cell_type": "code",
      "source": [
        "ward_test['alkuhetki'] = pd.to_datetime(ward_test['alkuhetki'], format=\"%Y-%m-%d %H:%M:%S\")\r\n",
        "ward_test['loppuhetki'] = pd.to_datetime(ward_test['loppuhetki'], format=\"%Y-%m-%d %H:%M:%S\")\r\n",
        "ward_test = ward_test[ward_test['alkuhetki'] <= ward_test['loppuhetki']]\r\n",
        "ward_test['aikaväli'] = pd.arrays.IntervalArray.from_arrays(left = ward_test['alkuhetki'], right = ward_test['loppuhetki'], closed='neither')\r\n",
        "ward_test['palveluaika'] = ((ward_test['loppuhetki'] - ward_test['alkuhetki']).astype('timedelta64[s]') / 3600 / 24)\r\n",
        "ward_test['alku'] = ward_test.alkuhetki\r\n",
        "ward_test['loppu'] = ward_test.loppuhetki\r\n",
        "ward_test.reset_index(drop=True, inplace=True)"
      ],
      "outputs": [
        {
          "output_type": "stream",
          "name": "stderr",
          "text": "/tmp/ipykernel_90013/3304619986.py:1: SettingWithCopyWarning: \nA value is trying to be set on a copy of a slice from a DataFrame.\nTry using .loc[row_indexer,col_indexer] = value instead\n\nSee the caveats in the documentation: https://pandas.pydata.org/pandas-docs/stable/user_guide/indexing.html#returning-a-view-versus-a-copy\n  ward_test['alkuhetki'] = pd.to_datetime(ward_test['alkuhetki'], format=\"%Y-%m-%d %H:%M:%S\")\n/tmp/ipykernel_90013/3304619986.py:2: SettingWithCopyWarning: \nA value is trying to be set on a copy of a slice from a DataFrame.\nTry using .loc[row_indexer,col_indexer] = value instead\n\nSee the caveats in the documentation: https://pandas.pydata.org/pandas-docs/stable/user_guide/indexing.html#returning-a-view-versus-a-copy\n  ward_test['loppuhetki'] = pd.to_datetime(ward_test['loppuhetki'], format=\"%Y-%m-%d %H:%M:%S\")\n"
        }
      ],
      "execution_count": 9,
      "metadata": {
        "jupyter": {
          "source_hidden": false,
          "outputs_hidden": false
        },
        "nteract": {
          "transient": {
            "deleting": false
          }
        },
        "gather": {
          "logged": 1681127041418
        }
      }
    },
    {
      "cell_type": "code",
      "source": [
        "ward['alkuhetki'] = pd.to_datetime(ward['alkuhetki'], format=\"%Y-%m-%d %H:%M:%S\")\r\n",
        "ward['loppuhetki'] = pd.to_datetime(ward['loppuhetki'], format=\"%Y-%m-%d %H:%M:%S\")\r\n",
        "ward = ward[ward['alkuhetki'] <= ward['loppuhetki']]\r\n",
        "ward['aikaväli'] = pd.arrays.IntervalArray.from_arrays(left = ward['alkuhetki'], right = ward['loppuhetki'], closed='neither')\r\n",
        "ward['palveluaika'] = ((ward['loppuhetki'] - ward['alkuhetki']).astype('timedelta64[s]') / 3600 / 24)\r\n",
        "ward['alku'] = ward.alkuhetki\r\n",
        "ward['loppu'] = ward.loppuhetki\r\n",
        "ward.reset_index(drop=True, inplace=True)\r\n"
      ],
      "outputs": [],
      "execution_count": 10,
      "metadata": {
        "jupyter": {
          "source_hidden": false,
          "outputs_hidden": false
        },
        "nteract": {
          "transient": {
            "deleting": false
          }
        },
        "gather": {
          "logged": 1681127041695
        }
      }
    },
    {
      "cell_type": "markdown",
      "source": [
        "### Siirtymätodennäköisyydet päivystys"
      ],
      "metadata": {
        "nteract": {
          "transient": {
            "deleting": false
          }
        }
      }
    },
    {
      "cell_type": "code",
      "source": [
        "aika = start\r\n",
        "span_day = pd.DataFrame(data={'time':[aika + timedelta(days=x) for x in range(61)]})\r\n",
        "timestamp_day = [aika + timedelta(days=x) for x in range(60)]\r\n",
        "df_train_day = pd.DataFrame(data={'time':timestamp_day})\r\n",
        "df_train_day['weekday'] = df_train_day['time'].dt.weekday\r\n",
        "df_train_day['month'] = df_train_day['time'].dt.month\r\n",
        "df_train_day['timespan'] = pd.arrays.IntervalArray.from_arrays(left = span_day['time'][0:-1], right = span_day['time'][1:], closed='left')\r\n",
        "df_train_day['patient_count'] = pd.DataFrame([pd.arrays.IntervalArray(df_train_day['timespan']).overlaps(b) for b in df_train['aikaväli']]).sum()\r\n",
        "\r\n",
        "for t in range(len(df_train_day['timespan'])):\r\n",
        "    sum = 0\r\n",
        "    for a, b in zip(df_train['aikaväli'], df_train['loppuhetki']):\r\n",
        "        if ((df_train_day.loc[t, 'timespan'].overlaps(a)) == True) & ((b in df_train_day.loc[t, 'timespan']) == False):\r\n",
        "            sum += 1\r\n",
        "    df_train_day.loc[t, 'päiv'] = sum\r\n",
        "    \r\n",
        "df_train_day['JOL1'] = pd.DataFrame([pd.arrays.IntervalArray(df_train_day['timespan']).contains(b) for b in df_train[df_train.jatkoh_laitos_nimi == 'JOL1'].loppuhetki]).sum()\r\n",
        "df_train_day['koti'] = pd.DataFrame([pd.arrays.IntervalArray(df_train_day['timespan']).contains(b) for b in df_train[df_train.jh_selite == 'Koti'].loppuhetki]).sum()\r\n",
        "df_train_day['muu'] = pd.DataFrame([pd.arrays.IntervalArray(df_train_day['timespan']).contains(b) for b in df_train[(df_train.jh_selite != 'Koti') & (df_train.jatkoh_laitos_nimi != 'JOL1')].loppuhetki]).sum()\r\n",
        "df_train_day.set_index('time', inplace=True)\r\n",
        "df_train_day.head()"
      ],
      "outputs": [
        {
          "output_type": "execute_result",
          "execution_count": 11,
          "data": {
            "text/plain": "            weekday  month                  timespan  patient_count  päiv  \\\ntime                                                                        \n2018-11-01        3     11  [2018-11-01, 2018-11-02)             45   1.0   \n2018-11-02        4     11  [2018-11-02, 2018-11-03)             52   3.0   \n2018-11-03        5     11  [2018-11-03, 2018-11-04)             80   9.0   \n2018-11-04        6     11  [2018-11-04, 2018-11-05)             88   6.0   \n2018-11-05        0     11  [2018-11-05, 2018-11-06)             69   4.0   \n\n            JOL1  koti  muu  \ntime                         \n2018-11-01     7    37    0  \n2018-11-02     2    46    1  \n2018-11-03     4    67    0  \n2018-11-04     6    75    1  \n2018-11-05     8    57    0  ",
            "text/html": "<div>\n<style scoped>\n    .dataframe tbody tr th:only-of-type {\n        vertical-align: middle;\n    }\n\n    .dataframe tbody tr th {\n        vertical-align: top;\n    }\n\n    .dataframe thead th {\n        text-align: right;\n    }\n</style>\n<table border=\"1\" class=\"dataframe\">\n  <thead>\n    <tr style=\"text-align: right;\">\n      <th></th>\n      <th>weekday</th>\n      <th>month</th>\n      <th>timespan</th>\n      <th>patient_count</th>\n      <th>päiv</th>\n      <th>JOL1</th>\n      <th>koti</th>\n      <th>muu</th>\n    </tr>\n    <tr>\n      <th>time</th>\n      <th></th>\n      <th></th>\n      <th></th>\n      <th></th>\n      <th></th>\n      <th></th>\n      <th></th>\n      <th></th>\n    </tr>\n  </thead>\n  <tbody>\n    <tr>\n      <th>2018-11-01</th>\n      <td>3</td>\n      <td>11</td>\n      <td>[2018-11-01, 2018-11-02)</td>\n      <td>45</td>\n      <td>1.0</td>\n      <td>7</td>\n      <td>37</td>\n      <td>0</td>\n    </tr>\n    <tr>\n      <th>2018-11-02</th>\n      <td>4</td>\n      <td>11</td>\n      <td>[2018-11-02, 2018-11-03)</td>\n      <td>52</td>\n      <td>3.0</td>\n      <td>2</td>\n      <td>46</td>\n      <td>1</td>\n    </tr>\n    <tr>\n      <th>2018-11-03</th>\n      <td>5</td>\n      <td>11</td>\n      <td>[2018-11-03, 2018-11-04)</td>\n      <td>80</td>\n      <td>9.0</td>\n      <td>4</td>\n      <td>67</td>\n      <td>0</td>\n    </tr>\n    <tr>\n      <th>2018-11-04</th>\n      <td>6</td>\n      <td>11</td>\n      <td>[2018-11-04, 2018-11-05)</td>\n      <td>88</td>\n      <td>6.0</td>\n      <td>6</td>\n      <td>75</td>\n      <td>1</td>\n    </tr>\n    <tr>\n      <th>2018-11-05</th>\n      <td>0</td>\n      <td>11</td>\n      <td>[2018-11-05, 2018-11-06)</td>\n      <td>69</td>\n      <td>4.0</td>\n      <td>8</td>\n      <td>57</td>\n      <td>0</td>\n    </tr>\n  </tbody>\n</table>\n</div>"
          },
          "metadata": {}
        }
      ],
      "execution_count": 11,
      "metadata": {
        "jupyter": {
          "source_hidden": false,
          "outputs_hidden": false
        },
        "nteract": {
          "transient": {
            "deleting": false
          }
        },
        "gather": {
          "logged": 1681127055103
        }
      }
    },
    {
      "cell_type": "code",
      "source": [
        "df_train_day['päiv_prob'] = df_train_day.päiv / df_train_day.patient_count\r\n",
        "df_train_day['JOL1_prob'] = df_train_day.JOL1 / df_train_day.patient_count\r\n",
        "df_train_day['koti_prob'] = df_train_day.koti / df_train_day.patient_count\r\n",
        "df_train_day['muu_prob'] = df_train_day.muu / df_train_day.patient_count\r\n",
        "df_train_day_grouped = df_train_day[['weekday', 'päiv_prob', 'JOL1_prob', 'muu_prob', 'koti_prob']].groupby(by='weekday')\r\n",
        "train_mean = df_train_day_grouped.mean()[['päiv_prob', 'JOL1_prob', 'muu_prob', 'koti_prob']]\r\n",
        "train_mean"
      ],
      "outputs": [
        {
          "output_type": "execute_result",
          "execution_count": 12,
          "data": {
            "text/plain": "         päiv_prob  JOL1_prob  muu_prob  koti_prob\nweekday                                           \n0         0.046458   0.073355  0.000000   0.880187\n1         0.038662   0.075982  0.005324   0.886746\n2         0.068671   0.074798  0.005704   0.850826\n3         0.087291   0.076539  0.003584   0.832586\n4         0.067129   0.070629  0.003820   0.858422\n5         0.074368   0.042917  0.006323   0.876392\n6         0.061483   0.050165  0.003679   0.884673",
            "text/html": "<div>\n<style scoped>\n    .dataframe tbody tr th:only-of-type {\n        vertical-align: middle;\n    }\n\n    .dataframe tbody tr th {\n        vertical-align: top;\n    }\n\n    .dataframe thead th {\n        text-align: right;\n    }\n</style>\n<table border=\"1\" class=\"dataframe\">\n  <thead>\n    <tr style=\"text-align: right;\">\n      <th></th>\n      <th>päiv_prob</th>\n      <th>JOL1_prob</th>\n      <th>muu_prob</th>\n      <th>koti_prob</th>\n    </tr>\n    <tr>\n      <th>weekday</th>\n      <th></th>\n      <th></th>\n      <th></th>\n      <th></th>\n    </tr>\n  </thead>\n  <tbody>\n    <tr>\n      <th>0</th>\n      <td>0.046458</td>\n      <td>0.073355</td>\n      <td>0.000000</td>\n      <td>0.880187</td>\n    </tr>\n    <tr>\n      <th>1</th>\n      <td>0.038662</td>\n      <td>0.075982</td>\n      <td>0.005324</td>\n      <td>0.886746</td>\n    </tr>\n    <tr>\n      <th>2</th>\n      <td>0.068671</td>\n      <td>0.074798</td>\n      <td>0.005704</td>\n      <td>0.850826</td>\n    </tr>\n    <tr>\n      <th>3</th>\n      <td>0.087291</td>\n      <td>0.076539</td>\n      <td>0.003584</td>\n      <td>0.832586</td>\n    </tr>\n    <tr>\n      <th>4</th>\n      <td>0.067129</td>\n      <td>0.070629</td>\n      <td>0.003820</td>\n      <td>0.858422</td>\n    </tr>\n    <tr>\n      <th>5</th>\n      <td>0.074368</td>\n      <td>0.042917</td>\n      <td>0.006323</td>\n      <td>0.876392</td>\n    </tr>\n    <tr>\n      <th>6</th>\n      <td>0.061483</td>\n      <td>0.050165</td>\n      <td>0.003679</td>\n      <td>0.884673</td>\n    </tr>\n  </tbody>\n</table>\n</div>"
          },
          "metadata": {}
        }
      ],
      "execution_count": 12,
      "metadata": {
        "jupyter": {
          "source_hidden": false,
          "outputs_hidden": false
        },
        "nteract": {
          "transient": {
            "deleting": false
          }
        },
        "gather": {
          "logged": 1681127055460
        }
      }
    },
    {
      "cell_type": "code",
      "source": [
        "df_test['alkuhetki'] = pd.to_datetime(df_test['alkuhetki'], format=\"%Y-%m-%d %H:%M:%S\")\r\n",
        "df_test['loppuhetki'] = pd.to_datetime(df_test['loppuhetki'], format=\"%Y-%m-%d %H:%M:%S\")\r\n",
        "df_test = df_test[df_test['alkuhetki'] <= df_test['loppuhetki']]\r\n",
        "df_test['aikaväli'] = pd.arrays.IntervalArray.from_arrays(left = df_test['alkuhetki'], right = df_test['loppuhetki'], closed='neither')\r\n",
        "df_test['palveluaika'] = ((df_test['loppuhetki'] - df_test['alkuhetki']).astype('timedelta64[s]') / 3600)\r\n",
        "df_test['alku'] = df_test.alkuhetki\r\n",
        "df_test['loppu'] = df_test.loppuhetki"
      ],
      "outputs": [],
      "execution_count": 13,
      "metadata": {
        "jupyter": {
          "source_hidden": false,
          "outputs_hidden": false
        },
        "nteract": {
          "transient": {
            "deleting": false
          }
        },
        "gather": {
          "logged": 1681127055704
        }
      }
    },
    {
      "cell_type": "code",
      "source": [
        "aika = train_test_day\r\n",
        "span_day = pd.DataFrame(data={'time':[aika + timedelta(days=x) for x in range(220)]})\r\n",
        "timestamp_day = [aika + timedelta(days=x) for x in range(219)]\r\n",
        "df_test_day = pd.DataFrame(data={'time':timestamp_day})\r\n",
        "df_test_day['weekday'] = df_test_day['time'].dt.weekday\r\n",
        "df_test_day['month'] = df_test_day['time'].dt.month\r\n",
        "df_test_day['timespan'] = pd.arrays.IntervalArray.from_arrays(left = span_day['time'][0:-1], right = span_day['time'][1:], closed='left')\r\n",
        "df_test_day['patient_count'] = pd.DataFrame([pd.arrays.IntervalArray(df_test_day['timespan']).overlaps(b) for b in df_test['aikaväli']]).sum()\r\n",
        "df_test_day.set_index('time', inplace=True)\r\n",
        "df_test_day.head()"
      ],
      "outputs": [
        {
          "output_type": "execute_result",
          "execution_count": 14,
          "data": {
            "text/plain": "            weekday  month                  timespan  patient_count\ntime                                                               \n2019-01-01        1      1  [2019-01-01, 2019-01-02)             71\n2019-01-02        2      1  [2019-01-02, 2019-01-03)             67\n2019-01-03        3      1  [2019-01-03, 2019-01-04)             71\n2019-01-04        4      1  [2019-01-04, 2019-01-05)             64\n2019-01-05        5      1  [2019-01-05, 2019-01-06)             81",
            "text/html": "<div>\n<style scoped>\n    .dataframe tbody tr th:only-of-type {\n        vertical-align: middle;\n    }\n\n    .dataframe tbody tr th {\n        vertical-align: top;\n    }\n\n    .dataframe thead th {\n        text-align: right;\n    }\n</style>\n<table border=\"1\" class=\"dataframe\">\n  <thead>\n    <tr style=\"text-align: right;\">\n      <th></th>\n      <th>weekday</th>\n      <th>month</th>\n      <th>timespan</th>\n      <th>patient_count</th>\n    </tr>\n    <tr>\n      <th>time</th>\n      <th></th>\n      <th></th>\n      <th></th>\n      <th></th>\n    </tr>\n  </thead>\n  <tbody>\n    <tr>\n      <th>2019-01-01</th>\n      <td>1</td>\n      <td>1</td>\n      <td>[2019-01-01, 2019-01-02)</td>\n      <td>71</td>\n    </tr>\n    <tr>\n      <th>2019-01-02</th>\n      <td>2</td>\n      <td>1</td>\n      <td>[2019-01-02, 2019-01-03)</td>\n      <td>67</td>\n    </tr>\n    <tr>\n      <th>2019-01-03</th>\n      <td>3</td>\n      <td>1</td>\n      <td>[2019-01-03, 2019-01-04)</td>\n      <td>71</td>\n    </tr>\n    <tr>\n      <th>2019-01-04</th>\n      <td>4</td>\n      <td>1</td>\n      <td>[2019-01-04, 2019-01-05)</td>\n      <td>64</td>\n    </tr>\n    <tr>\n      <th>2019-01-05</th>\n      <td>5</td>\n      <td>1</td>\n      <td>[2019-01-05, 2019-01-06)</td>\n      <td>81</td>\n    </tr>\n  </tbody>\n</table>\n</div>"
          },
          "metadata": {}
        }
      ],
      "execution_count": 14,
      "metadata": {
        "jupyter": {
          "source_hidden": false,
          "outputs_hidden": false
        },
        "nteract": {
          "transient": {
            "deleting": false
          }
        },
        "gather": {
          "logged": 1681127059073
        }
      }
    },
    {
      "cell_type": "code",
      "source": [
        "print(df_train.jatkoh_laitos_nimi.unique())\r\n",
        "print('JOL1 osastolle siirtyneet:', len(df_train[df_train.jatkoh_laitos_nimi == 'JOL1']) / len(df_train) * 100)\r\n",
        "print('Ylipäätään jollekin osastolle siirtyneet:', len(df_train[df_train.jatkoh_laitos_nimi != '']) / len(df_train) * 100)\r\n",
        "print('Sairaalaan jääneet:', len(df_train[df_train.jh_selite == 'Sairaala']) / len(df_train) * 100)"
      ],
      "outputs": [
        {
          "output_type": "stream",
          "name": "stdout",
          "text": "['' 'JOL1' 'LAVARUUS' 'HYKS-SHA' 'NPSN1' 'LVUORI' 'JON6C' 'JOL2' 'LTEHO'\n 'NPSN2' 'LTÄHTI']\nJOL1 osastolle siirtyneet: 6.744457409568261\nYlipäätään jollekin osastolle siirtyneet: 7.141190198366394\nSairaalaan jääneet: 7.024504084014002\n"
        }
      ],
      "execution_count": 15,
      "metadata": {
        "jupyter": {
          "source_hidden": false,
          "outputs_hidden": false
        },
        "nteract": {
          "transient": {
            "deleting": false
          }
        },
        "gather": {
          "logged": 1681127059380
        }
      }
    },
    {
      "cell_type": "markdown",
      "source": [
        "### Siirtymätodennäköisyydet JOL1"
      ],
      "metadata": {
        "nteract": {
          "transient": {
            "deleting": false
          }
        }
      }
    },
    {
      "cell_type": "code",
      "source": [
        "aika = start\r\n",
        "span_day = pd.DataFrame(data={'time':[aika + timedelta(days=x) for x in range(61)]})\r\n",
        "timestamp_day = [aika + timedelta(days=x) for x in range(60)]\r\n",
        "ward_train_day = pd.DataFrame(data={'time':timestamp_day})\r\n",
        "ward_train_day['weekday'] = ward_train_day['time'].dt.weekday\r\n",
        "ward_train_day['month'] = ward_train_day['time'].dt.month\r\n",
        "ward_train_day['timespan'] = pd.arrays.IntervalArray.from_arrays(left = span_day['time'][0:-1], right = span_day['time'][1:], closed='left')\r\n",
        "ward_train_day['patient_count'] = pd.DataFrame([pd.arrays.IntervalArray(ward_train_day['timespan']).overlaps(b) for b in ward_train['aikaväli']]).sum()\r\n",
        "\r\n",
        "for t in range(len(ward_train_day['timespan'])):\r\n",
        "    sum = 0\r\n",
        "    for a, b in zip(ward_train['aikaväli'], ward_train['loppuhetki']):\r\n",
        "        if ((ward_train_day.loc[t, 'timespan'].overlaps(a)) == True) & ((b in ward_train_day.loc[t, 'timespan']) == False):\r\n",
        "            sum += 1\r\n",
        "    ward_train_day.loc[t, 'JOL1'] = sum\r\n",
        "\r\n",
        "ward_train_day['koti'] = pd.DataFrame([pd.arrays.IntervalArray(ward_train_day['timespan']).contains(b) for b in ward_train[ward_train.jh_selite == 'Koti'].loppuhetki]).sum()\r\n",
        "ward_train_day['muu'] = pd.DataFrame([pd.arrays.IntervalArray(ward_train_day['timespan']).contains(b) for b in ward_train[ward_train.jh_selite == 'Sairaala'].loppuhetki]).sum()\r\n",
        "ward_train_day.set_index('time', inplace=True)\r\n",
        "ward_train_var = ward_train_day\r\n",
        "#ward_train_day = ward_train_day[ward_train_day.index >= start_L1]"
      ],
      "outputs": [],
      "execution_count": 16,
      "metadata": {
        "jupyter": {
          "source_hidden": false,
          "outputs_hidden": false
        },
        "nteract": {
          "transient": {
            "deleting": false
          }
        },
        "gather": {
          "logged": 1681127059690
        }
      }
    },
    {
      "cell_type": "code",
      "source": [
        "ward_train_day['JOL1_prob'] = ward_train_day.JOL1 / ward_train_day.patient_count\r\n",
        "ward_train_day['koti_prob'] = ward_train_day.koti / ward_train_day.patient_count\r\n",
        "ward_train_day['muu_prob'] = ward_train_day.muu / ward_train_day.patient_count\r\n",
        "ward_train_day_grouped = ward_train_day.groupby(by='weekday')\r\n",
        "ward_mean = ward_train_day_grouped.mean()\r\n",
        "ward_mean"
      ],
      "outputs": [
        {
          "output_type": "stream",
          "name": "stderr",
          "text": "/tmp/ipykernel_90013/4270373818.py:5: FutureWarning: The default value of numeric_only in DataFrameGroupBy.mean is deprecated. In a future version, numeric_only will default to False. Either specify numeric_only or select only columns which should be valid for the function.\n  ward_mean = ward_train_day_grouped.mean()\n"
        },
        {
          "output_type": "execute_result",
          "execution_count": 17,
          "data": {
            "text/plain": "             month  patient_count       JOL1      koti       muu  JOL1_prob  \\\nweekday                                                                       \n0        11.500000      18.000000  12.375000  5.500000  0.125000   0.698900   \n1        11.500000      18.250000  12.625000  5.375000  0.250000   0.690330   \n2        11.500000      18.500000  14.125000  4.375000  0.000000   0.756752   \n3        11.444444      18.000000  13.222222  4.444444  0.222222   0.755454   \n4        11.444444      18.666667  12.222222  6.222222  0.111111   0.644838   \n5        11.555556      16.111111  11.000000  4.666667  0.444444   0.680828   \n6        11.555556      16.666667  11.666667  4.777778  0.111111   0.697350   \n\n         koti_prob  muu_prob  \nweekday                       \n0         0.294156  0.006944  \n1         0.296512  0.013158  \n2         0.243248  0.000000  \n3         0.227791  0.010582  \n4         0.341219  0.006536  \n5         0.294688  0.024484  \n6         0.288178  0.007937  ",
            "text/html": "<div>\n<style scoped>\n    .dataframe tbody tr th:only-of-type {\n        vertical-align: middle;\n    }\n\n    .dataframe tbody tr th {\n        vertical-align: top;\n    }\n\n    .dataframe thead th {\n        text-align: right;\n    }\n</style>\n<table border=\"1\" class=\"dataframe\">\n  <thead>\n    <tr style=\"text-align: right;\">\n      <th></th>\n      <th>month</th>\n      <th>patient_count</th>\n      <th>JOL1</th>\n      <th>koti</th>\n      <th>muu</th>\n      <th>JOL1_prob</th>\n      <th>koti_prob</th>\n      <th>muu_prob</th>\n    </tr>\n    <tr>\n      <th>weekday</th>\n      <th></th>\n      <th></th>\n      <th></th>\n      <th></th>\n      <th></th>\n      <th></th>\n      <th></th>\n      <th></th>\n    </tr>\n  </thead>\n  <tbody>\n    <tr>\n      <th>0</th>\n      <td>11.500000</td>\n      <td>18.000000</td>\n      <td>12.375000</td>\n      <td>5.500000</td>\n      <td>0.125000</td>\n      <td>0.698900</td>\n      <td>0.294156</td>\n      <td>0.006944</td>\n    </tr>\n    <tr>\n      <th>1</th>\n      <td>11.500000</td>\n      <td>18.250000</td>\n      <td>12.625000</td>\n      <td>5.375000</td>\n      <td>0.250000</td>\n      <td>0.690330</td>\n      <td>0.296512</td>\n      <td>0.013158</td>\n    </tr>\n    <tr>\n      <th>2</th>\n      <td>11.500000</td>\n      <td>18.500000</td>\n      <td>14.125000</td>\n      <td>4.375000</td>\n      <td>0.000000</td>\n      <td>0.756752</td>\n      <td>0.243248</td>\n      <td>0.000000</td>\n    </tr>\n    <tr>\n      <th>3</th>\n      <td>11.444444</td>\n      <td>18.000000</td>\n      <td>13.222222</td>\n      <td>4.444444</td>\n      <td>0.222222</td>\n      <td>0.755454</td>\n      <td>0.227791</td>\n      <td>0.010582</td>\n    </tr>\n    <tr>\n      <th>4</th>\n      <td>11.444444</td>\n      <td>18.666667</td>\n      <td>12.222222</td>\n      <td>6.222222</td>\n      <td>0.111111</td>\n      <td>0.644838</td>\n      <td>0.341219</td>\n      <td>0.006536</td>\n    </tr>\n    <tr>\n      <th>5</th>\n      <td>11.555556</td>\n      <td>16.111111</td>\n      <td>11.000000</td>\n      <td>4.666667</td>\n      <td>0.444444</td>\n      <td>0.680828</td>\n      <td>0.294688</td>\n      <td>0.024484</td>\n    </tr>\n    <tr>\n      <th>6</th>\n      <td>11.555556</td>\n      <td>16.666667</td>\n      <td>11.666667</td>\n      <td>4.777778</td>\n      <td>0.111111</td>\n      <td>0.697350</td>\n      <td>0.288178</td>\n      <td>0.007937</td>\n    </tr>\n  </tbody>\n</table>\n</div>"
          },
          "metadata": {}
        }
      ],
      "execution_count": 17,
      "metadata": {
        "jupyter": {
          "source_hidden": false,
          "outputs_hidden": false
        },
        "nteract": {
          "transient": {
            "deleting": false
          }
        },
        "gather": {
          "logged": 1681127060176
        }
      }
    },
    {
      "cell_type": "code",
      "source": [
        "ward_test['alkuhetki'] = pd.to_datetime(ward_test['alkuhetki'], format=\"%Y-%m-%d %H:%M:%S\")\r\n",
        "ward_test['loppuhetki'] = pd.to_datetime(ward_test['loppuhetki'], format=\"%Y-%m-%d %H:%M:%S\")\r\n",
        "ward_test = ward_test[ward_test['alkuhetki'] <= ward_test['loppuhetki']]\r\n",
        "ward_test['aikaväli'] = pd.arrays.IntervalArray.from_arrays(left = ward_test['alkuhetki'], right = ward_test['loppuhetki'], closed='neither')\r\n",
        "ward_test['palveluaika'] = ((ward_test['loppuhetki'] - ward_test['alkuhetki']).astype('timedelta64[s]') / 3600)"
      ],
      "outputs": [],
      "execution_count": 18,
      "metadata": {
        "jupyter": {
          "source_hidden": false,
          "outputs_hidden": false
        },
        "nteract": {
          "transient": {
            "deleting": false
          }
        },
        "gather": {
          "logged": 1681127060473
        }
      }
    },
    {
      "cell_type": "code",
      "source": [
        "aika = train_test_day\r\n",
        "span_day_test = pd.DataFrame(data={'time':[aika + timedelta(days=x) for x in range(121)]})\r\n",
        "timestamp_day_test = [aika + timedelta(days=x) for x in range(120)]\r\n",
        "ward_test_day = pd.DataFrame(data={'time':timestamp_day_test})\r\n",
        "ward_test_day['weekday'] = ward_test_day['time'].dt.weekday\r\n",
        "ward_test_day['month'] = ward_test_day['time'].dt.month\r\n",
        "ward_test_day['timespan'] = pd.arrays.IntervalArray.from_arrays(left = span_day_test['time'][0:-1], right = span_day_test['time'][1:], closed='left')\r\n",
        "ward_test_day['patient_count'] = pd.DataFrame([pd.arrays.IntervalArray(ward_test_day['timespan']).overlaps(b) for b in ward_test['aikaväli']]).sum()\r\n",
        "ward_test_day.set_index('time', inplace=True)\r\n",
        "ward_test_day.head()"
      ],
      "outputs": [
        {
          "output_type": "execute_result",
          "execution_count": 19,
          "data": {
            "text/plain": "            weekday  month                  timespan  patient_count\ntime                                                               \n2019-01-01        1      1  [2019-01-01, 2019-01-02)              4\n2019-01-02        2      1  [2019-01-02, 2019-01-03)              9\n2019-01-03        3      1  [2019-01-03, 2019-01-04)             13\n2019-01-04        4      1  [2019-01-04, 2019-01-05)             14\n2019-01-05        5      1  [2019-01-05, 2019-01-06)             11",
            "text/html": "<div>\n<style scoped>\n    .dataframe tbody tr th:only-of-type {\n        vertical-align: middle;\n    }\n\n    .dataframe tbody tr th {\n        vertical-align: top;\n    }\n\n    .dataframe thead th {\n        text-align: right;\n    }\n</style>\n<table border=\"1\" class=\"dataframe\">\n  <thead>\n    <tr style=\"text-align: right;\">\n      <th></th>\n      <th>weekday</th>\n      <th>month</th>\n      <th>timespan</th>\n      <th>patient_count</th>\n    </tr>\n    <tr>\n      <th>time</th>\n      <th></th>\n      <th></th>\n      <th></th>\n      <th></th>\n    </tr>\n  </thead>\n  <tbody>\n    <tr>\n      <th>2019-01-01</th>\n      <td>1</td>\n      <td>1</td>\n      <td>[2019-01-01, 2019-01-02)</td>\n      <td>4</td>\n    </tr>\n    <tr>\n      <th>2019-01-02</th>\n      <td>2</td>\n      <td>1</td>\n      <td>[2019-01-02, 2019-01-03)</td>\n      <td>9</td>\n    </tr>\n    <tr>\n      <th>2019-01-03</th>\n      <td>3</td>\n      <td>1</td>\n      <td>[2019-01-03, 2019-01-04)</td>\n      <td>13</td>\n    </tr>\n    <tr>\n      <th>2019-01-04</th>\n      <td>4</td>\n      <td>1</td>\n      <td>[2019-01-04, 2019-01-05)</td>\n      <td>14</td>\n    </tr>\n    <tr>\n      <th>2019-01-05</th>\n      <td>5</td>\n      <td>1</td>\n      <td>[2019-01-05, 2019-01-06)</td>\n      <td>11</td>\n    </tr>\n  </tbody>\n</table>\n</div>"
          },
          "metadata": {}
        }
      ],
      "execution_count": 19,
      "metadata": {
        "jupyter": {
          "source_hidden": false,
          "outputs_hidden": false
        },
        "nteract": {
          "transient": {
            "deleting": false
          }
        },
        "gather": {
          "logged": 1681127060832
        }
      }
    },
    {
      "cell_type": "code",
      "source": [
        "# Siirtymätodennäköisyyksien normalisointi 1\r\n",
        "def smoothen_transition_probs(df_mean, columns):\r\n",
        "    '''\r\n",
        "    Input parameters:\r\n",
        "        df_mean (DataFrame): mean transition probabilities\r\n",
        "        columns (list): columns considered in normalization, \r\n",
        "        one inner list corresponds the probabilities for one row\r\n",
        "    Output parameters:\r\n",
        "        df_mean (DataFrame): normalized mean transition probabilities\r\n",
        "    '''\r\n",
        "    for names in columns:\r\n",
        "        for row in range(len(df_mean)):\r\n",
        "            probs_sum = np.sum([df_mean.at[row, n] for n in names])\r\n",
        "            for n in names:\r\n",
        "                df_mean.loc[df_mean.index == row, n] = df_mean.loc[df_mean.index == row, n] / probs_sum + 0.000000001\r\n",
        "    return df_mean\r\n",
        "    \r\n",
        "train_mean = train_mean.reset_index()\r\n",
        "columns = [['päiv_prob', 'JOL1_prob', 'muu_prob', 'koti_prob']]\r\n",
        "train_mean = smoothen_transition_probs(train_mean, columns)\r\n",
        "\r\n",
        "ward_mean = ward_mean.reset_index()\r\n",
        "columns_ward = [['JOL1_prob', 'muu_prob', 'koti_prob']]\r\n",
        "ward_mean = smoothen_transition_probs(ward_mean, columns_ward)"
      ],
      "outputs": [],
      "execution_count": 20,
      "metadata": {
        "jupyter": {
          "source_hidden": false,
          "outputs_hidden": false
        },
        "nteract": {
          "transient": {
            "deleting": false
          }
        },
        "gather": {
          "logged": 1681127061142
        }
      }
    },
    {
      "cell_type": "markdown",
      "source": [
        "## Siirtymämatriisit"
      ],
      "metadata": {
        "nteract": {
          "transient": {
            "deleting": false
          }
        }
      }
    },
    {
      "cell_type": "code",
      "source": [
        "#           päivystys  JOL1  muu  koti\r\n",
        "# päivystys\r\n",
        "# JOL1\r\n",
        "# muu\r\n",
        "# koti\r\n",
        "\r\n",
        "T_mon = [[train_mean.at[0, 'päiv_prob'], train_mean.at[0, 'JOL1_prob'], train_mean.at[0, 'muu_prob'], train_mean.at[0, 'koti_prob']],\r\n",
        "         [0, ward_mean.at[0, 'JOL1_prob'], ward_mean.at[0, 'muu_prob'], ward_mean.at[0, 'koti_prob']],       \r\n",
        "         [0,        0,        1,        0],\r\n",
        "         [0,        0,        1,        0]]\r\n",
        "\r\n",
        "T_tue = [[train_mean.at[1, 'päiv_prob'], train_mean.at[1, 'JOL1_prob'], train_mean.at[1, 'muu_prob'], train_mean.at[1, 'koti_prob']],\r\n",
        "         [0, ward_mean.at[1, 'JOL1_prob'], ward_mean.at[1, 'muu_prob'], ward_mean.at[1, 'koti_prob']],\r\n",
        "         [0,        0,        1,        0],\r\n",
        "         [0,        0,        1,        0]]\r\n",
        "\r\n",
        "T_wed = [[train_mean.at[2, 'päiv_prob'], train_mean.at[2, 'JOL1_prob'], train_mean.at[2, 'muu_prob'], train_mean.at[2, 'koti_prob']],\r\n",
        "         [0, ward_mean.at[2, 'JOL1_prob'], ward_mean.at[2, 'muu_prob'], ward_mean.at[2, 'koti_prob']], \r\n",
        "         [0,        0,        1,        0],\r\n",
        "         [0,        0,        1,        0]]\r\n",
        "\r\n",
        "T_thu = [[train_mean.at[3, 'päiv_prob'], train_mean.at[3, 'JOL1_prob'], train_mean.at[3, 'muu_prob'], train_mean.at[3, 'koti_prob']],\r\n",
        "         [0, ward_mean.at[3, 'JOL1_prob'], ward_mean.at[3, 'muu_prob'], ward_mean.at[3, 'koti_prob']], \r\n",
        "         [0,        0,        1,        0],\r\n",
        "         [0,        0,        1,        0]]\r\n",
        "\r\n",
        "T_fri = [[train_mean.at[4, 'päiv_prob'], train_mean.at[4, 'JOL1_prob'], train_mean.at[4, 'muu_prob'], train_mean.at[4, 'koti_prob']],\r\n",
        "         [0, ward_mean.at[4, 'JOL1_prob'], ward_mean.at[4, 'muu_prob'], ward_mean.at[4, 'koti_prob']], \r\n",
        "         [0,        0,        1,        0],\r\n",
        "         [0,        0,        1,        0]]\r\n",
        "         \r\n",
        "T_sat = [[train_mean.at[5, 'päiv_prob'], train_mean.at[5, 'JOL1_prob'], train_mean.at[5, 'muu_prob'], train_mean.at[5, 'koti_prob']],\r\n",
        "         [0, ward_mean.at[5, 'JOL1_prob'], ward_mean.at[5, 'muu_prob'], ward_mean.at[5, 'koti_prob']], \r\n",
        "         [0,        0,        1,        0],\r\n",
        "         [0,        0,        1,        0]]\r\n",
        "\r\n",
        "T_sun = [[train_mean.at[6, 'päiv_prob'], train_mean.at[6, 'JOL1_prob'], train_mean.at[6, 'muu_prob'], train_mean.at[6, 'koti_prob']],\r\n",
        "         [0, ward_mean.at[6, 'JOL1_prob'], ward_mean.at[6, 'muu_prob'], ward_mean.at[6, 'koti_prob']], \r\n",
        "         [0,        0,        1,        0],\r\n",
        "         [0,        0,        1,        0]]\r\n",
        "\r\n"
      ],
      "outputs": [],
      "execution_count": 21,
      "metadata": {
        "jupyter": {
          "source_hidden": false,
          "outputs_hidden": false
        },
        "nteract": {
          "transient": {
            "deleting": false
          }
        },
        "gather": {
          "logged": 1681127061469
        }
      }
    },
    {
      "cell_type": "markdown",
      "source": [
        "## Hybridimalli"
      ],
      "metadata": {
        "nteract": {
          "transient": {
            "deleting": false
          }
        }
      }
    },
    {
      "cell_type": "code",
      "source": [
        "def sampleMultiDist(row_probs, state):\r\n",
        "    '''\r\n",
        "    Input parameters:\r\n",
        "        row_probs (list): unit's transition propability row\r\n",
        "        state (int): initial state\r\n",
        "    Output parameters:\r\n",
        "        next (int): next state\r\n",
        "    '''\r\n",
        "    sample = np.random.uniform(0.0, 1.0)\r\n",
        "    cum_probs = np.cumsum(row_probs)\r\n",
        "    cum_probs = np.insert(cum_probs, state, 0, 0)\r\n",
        "    i = (np.where(cum_probs < sample))[0]\r\n",
        "    next = i[len(i) - 1]\r\n",
        "    return next\r\n",
        "\r\n",
        "def Markov(initial_state, day): \r\n",
        "    '''\r\n",
        "    Input parameters:\r\n",
        "        initial_state (int): \r\n",
        "        day (int): datapoint from the prediction start day 1-126\r\n",
        "    Output parameters:\r\n",
        "        current_states (array): array of patient's states\r\n",
        "    '''\r\n",
        "    state = np.array([[0.0, 0.0, 0.0, 0.0]])\r\n",
        "    state[0, initial_state] = 1.0\r\n",
        "    current_state = initial_state\r\n",
        "    current_states = np.array([current_state])\r\n",
        "    state_hist = state\r\n",
        "    seed(4)\r\n",
        "    \r\n",
        "    d = 0\r\n",
        "    while ((d < 41 - day) & (current_state != 2) & (current_state != 3)):\r\n",
        "\r\n",
        "        if (d + 7) % 7 == 0:\r\n",
        "            current_row = np.ma.masked_values((T_mon[current_state]), 0.0)\r\n",
        "        elif (d + 6) % 7 == 0:\r\n",
        "            current_row = np.ma.masked_values((T_tue[current_state]), 0.0)\r\n",
        "        elif (d + 5) % 7 == 0:\r\n",
        "            current_row = np.ma.masked_values((T_wed[current_state]), 0.0)\r\n",
        "        elif (d + 4) % 7 == 0:\r\n",
        "            current_row = np.ma.masked_values((T_thu[current_state]), 0.0)\r\n",
        "        elif (d + 3) % 7 == 0:\r\n",
        "            current_row = np.ma.masked_values((T_fri[current_state]), 0.0)\r\n",
        "        elif (d + 2) % 7 == 0:\r\n",
        "            current_row = np.ma.masked_values((T_sat[current_state]), 0.0)\r\n",
        "        else:\r\n",
        "            current_row = np.ma.masked_values((T_sun[current_state]), 0.0)\r\n",
        "\r\n",
        "        next = sampleMultiDist(current_row, initial_state)\r\n",
        "        state = np.array([[0, 0, 0, 0]])\r\n",
        "        state[0, next] = 1.0\r\n",
        "        state_hist = np.append(state_hist, state, axis=0)\r\n",
        "        current_state = next\r\n",
        "        d += 1\r\n",
        "        current_states = np.append(current_states, [current_state], axis=0)\r\n",
        "    return current_states\r\n"
      ],
      "outputs": [],
      "execution_count": 22,
      "metadata": {
        "jupyter": {
          "source_hidden": false,
          "outputs_hidden": false
        },
        "nteract": {
          "transient": {
            "deleting": false
          }
        },
        "gather": {
          "logged": 1681127061788
        }
      }
    },
    {
      "cell_type": "code",
      "source": [
        "def staying_in_care(unit_df, start_day):\r\n",
        "    '''\r\n",
        "    Input parameters:\r\n",
        "        unit_df (DataFrame): unit data\r\n",
        "        start_day (Timestamp): the prediction day\r\n",
        "    Output parameters:\r\n",
        "        current_pc['patient_count'][0] (int): number of patients in care in the unit during the start time of the prediction \r\n",
        "    '''\r\n",
        "    current_pc = pd.DataFrame(data={'time':[start_day]})\r\n",
        "    current_pc['timespan'] = pd.Interval(left=start_day - timedelta(minutes=1), right=start_day + timedelta(minutes=1), closed='neither')\r\n",
        "    current_pc['patient_count'] = pd.DataFrame([pd.arrays.IntervalArray(current_pc['timespan']).overlaps(b) for b in unit_df['aikaväli']]).sum()\r\n",
        "    return current_pc['patient_count'][0]\r\n",
        "\r\n",
        "ER_care = staying_in_care(df, start_day)\r\n",
        "ward_care = staying_in_care(ward, start_day)\r\n",
        "print('Päivystyksessä hoidossa:', ER_care)\r\n",
        "print('Osastolla hoidossa:', ward_care)"
      ],
      "outputs": [
        {
          "output_type": "stream",
          "name": "stdout",
          "text": "Päivystyksessä hoidossa: 9\nOsastolla hoidossa: 18\n"
        }
      ],
      "execution_count": 23,
      "metadata": {
        "jupyter": {
          "source_hidden": false,
          "outputs_hidden": false
        },
        "nteract": {
          "transient": {
            "deleting": false
          }
        },
        "gather": {
          "logged": 1681127065122
        }
      }
    },
    {
      "cell_type": "markdown",
      "source": [
        "### "
      ],
      "metadata": {
        "nteract": {
          "transient": {
            "deleting": false
          }
        }
      }
    },
    {
      "cell_type": "code",
      "source": [
        "def network(state, prediction): \r\n",
        "    '''\r\n",
        "    Input parameters:\r\n",
        "        state (int): state number of the unit, the column of the transition matrix\r\n",
        "        prediction (list): arriving patient predictions \r\n",
        "    Output parameters:\r\n",
        "        simulations (array): array of patients simulations\r\n",
        "        prediction (list): arriving patient predictions \r\n",
        "    '''\r\n",
        "    simulations = np.zeros((42, 1))\r\n",
        "    # Simulaatio jokaiselle uudelle potilaalle jokaista ennustettavaa aikaväliä kohden\r\n",
        "    for j in range(len(prediction)):\r\n",
        "        for k in range(prediction[j]):\r\n",
        "            result = Markov(state, j)\r\n",
        "            result = result.reshape((len(result), 1))\r\n",
        "            sim = np.zeros((42, 1))\r\n",
        "            sim[:] = np.nan\r\n",
        "            sim[j:len(result) + j] = result\r\n",
        "            simulations = np.append(simulations, sim, axis=1) \r\n",
        "\r\n",
        "    simulations = simulations[:, 1:]\r\n",
        "    return simulations, prediction\r\n"
      ],
      "outputs": [],
      "execution_count": 24,
      "metadata": {
        "jupyter": {
          "source_hidden": false,
          "outputs_hidden": false
        },
        "nteract": {
          "transient": {
            "deleting": false
          }
        },
        "gather": {
          "logged": 1681127065477
        }
      }
    },
    {
      "cell_type": "code",
      "source": [
        "def transferred_to(results, state):\r\n",
        "    '''\r\n",
        "    Input parameters:\r\n",
        "        results (DataFrame): results of one unit\r\n",
        "        state (int): unit's state\r\n",
        "    Output parameters:\r\n",
        "        transferred (array): array of number of patients transferred to the considered unit (state)\r\n",
        "    '''\r\n",
        "    transferred = np.array([0])\r\n",
        "    for i in range(1, 42):\r\n",
        "        rows = results[(results[i-1] != state) & (results[i] == state)]\r\n",
        "        transferred = np.append(transferred, len(rows))\r\n",
        "    return transferred\r\n",
        "        \r\n",
        "def remove_transferred(results, transferred, prediction):\r\n",
        "    '''\r\n",
        "    Input parameters:\r\n",
        "        results (DataFrame): results of one unit \r\n",
        "        transferred (array): array of number of patients transferred to the considered unit (state)\r\n",
        "        prediction (list): arriving patient predictions\r\n",
        "    Output parameters:\r\n",
        "        results (array): array of patients simulations after removal of patients transferred inside the network\r\n",
        "    '''\r\n",
        "    added = 0\r\n",
        "    for i in range(42):\r\n",
        "        removed = transferred[i]\r\n",
        "        if removed <= prediction[i]:\r\n",
        "            added += prediction[i]\r\n",
        "            results = np.delete(results, np.arange(added-removed, added), axis=1)\r\n",
        "            added -= removed\r\n",
        "        else:\r\n",
        "            added += prediction[i]\r\n",
        "    return results\r\n"
      ],
      "outputs": [],
      "execution_count": 25,
      "metadata": {
        "jupyter": {
          "source_hidden": false,
          "outputs_hidden": false
        },
        "nteract": {
          "transient": {
            "deleting": false
          }
        },
        "gather": {
          "logged": 1681127065744
        }
      }
    },
    {
      "cell_type": "code",
      "source": [
        "def network_combination(unit_results):\r\n",
        "    '''\r\n",
        "    Input parameters:\r\n",
        "        unit_results (DataFrame): results of one unit\r\n",
        "    Output parameters:\r\n",
        "        state_counts (DataFrame): patient counts of the considered states every day\r\n",
        "    '''\r\n",
        "    state_counts = pd.DataFrame(columns=['0', '1', '2', '3'])\r\n",
        "    states = pd.RangeIndex(start=0, stop=4)\r\n",
        "    states_per_day = pd.DataFrame(unit_results)\r\n",
        "    for day in range(len(states_per_day)):\r\n",
        "        count = states_per_day.loc[day].value_counts()\r\n",
        "        for i in states:\r\n",
        "            if i not in count:\r\n",
        "                count.loc[i] = 0\r\n",
        "        count = count.sort_index()\r\n",
        "        state_counts.loc[day] = count.values\r\n",
        "    return state_counts"
      ],
      "outputs": [],
      "execution_count": 26,
      "metadata": {
        "jupyter": {
          "source_hidden": false,
          "outputs_hidden": false
        },
        "nteract": {
          "transient": {
            "deleting": false
          }
        },
        "gather": {
          "logged": 1681127066005
        }
      }
    },
    {
      "cell_type": "code",
      "source": [
        "def full_simulation(in_care, prediction_day):\r\n",
        "    '''\r\n",
        "    Input parameters:\r\n",
        "        in_care (list): list of integers describing the number of patients in care in the start of prediction\r\n",
        "        prediction_day (int): the day number of year \r\n",
        "    Output parameters:\r\n",
        "        final_results (DataFrame): one full simulation predicting patient counts for all considered units\r\n",
        "    '''\r\n",
        "    final_results = np.zeros([42, 4], dtype=int)\r\n",
        "    unit_amount = 2\r\n",
        "    prediction_model_names = ['tbats_ER_2017-2019_final.pkl', 'tbats_L1_2017-2019_final.pkl']\r\n",
        "    for i in range(unit_amount):\r\n",
        "        ts_model = pickle.load(open(prediction_model_names[i], 'rb'))\r\n",
        "        prediction_year = np.round(ts_model.forecast(steps=365) * 1.0).astype(int) # TBATS\r\n",
        "        prediction = prediction_year[prediction_day:(prediction_day + 42)]\r\n",
        "        # Hoidossa olevien potilaiden lisäys\r\n",
        "        prediction[0] += in_care[i]\r\n",
        "        results, prediction = network(i, prediction)\r\n",
        "        # Verkon sisällä siirtyvien potilaiden poisto\r\n",
        "        if i > 0:\r\n",
        "            transferred = transferred_to(pd.DataFrame(results.transpose()), i)\r\n",
        "            results = remove_transferred(results, transferred, prediction)\r\n",
        "        counts = network_combination(results)\r\n",
        "        final_results += counts\r\n",
        "    return final_results\r\n",
        "\r\n",
        "ER_care = staying_in_care(df, start_day)\r\n",
        "ward_care = staying_in_care(ward, start_day)\r\n",
        "in_care = np.array([ER_care, ward_care])\r\n",
        "prediction_day = start_day.dayofyear - 1\r\n",
        "simulations = 50\r\n",
        "final_results = np.zeros([42, 4], dtype=int)\r\n",
        "all_results = pd.DataFrame()\r\n",
        "for s in range(simulations):\r\n",
        "    sim_results = full_simulation(in_care, prediction_day)\r\n",
        "    final_results += sim_results\r\n",
        "    all_results = pd.concat([all_results, sim_results], axis=0)\r\n",
        "final_results = np.round(final_results.div(simulations))\r\n",
        "print(final_results)"
      ],
      "outputs": [
        {
          "output_type": "stream",
          "name": "stdout",
          "text": "       0     1    2     3\n0   69.0  24.0  0.0   0.0\n1   62.0  21.0  0.0  68.0\n2   60.0  19.0  0.0  61.0\n3   63.0  18.0  0.0  57.0\n4   84.0  18.0  0.0  60.0\n5   91.0  19.0  0.0  80.0\n6   69.0  20.0  0.0  86.0\n7   65.0  19.0  0.0  66.0\n8   62.0  18.0  0.0  62.0\n9   61.0  18.0  0.0  59.0\n10  64.0  17.0  0.0  59.0\n11  86.0  16.0  0.0  62.0\n12  92.0  18.0  0.0  80.0\n13  70.0  20.0  0.0  85.0\n14  66.0  19.0  0.0  67.0\n15  62.0  18.0  0.0  63.0\n16  61.0  17.0  0.0  61.0\n17  64.0  17.0  0.0  58.0\n18  86.0  17.0  0.0  61.0\n19  93.0  19.0  0.0  79.0\n20  70.0  20.0  0.0  88.0\n21  65.0  19.0  0.0  67.0\n22  63.0  19.0  0.0  63.0\n23  62.0  17.0  0.0  61.0\n24  65.0  17.0  0.0  59.0\n25  87.0  17.0  0.0  62.0\n26  93.0  19.0  0.0  81.0\n27  70.0  20.0  0.0  87.0\n28  65.0  19.0  0.0  68.0\n29  63.0  19.0  0.0  62.0\n30  62.0  18.0  0.0  61.0\n31  65.0  17.0  0.0  59.0\n32  87.0  17.0  0.0  62.0\n33  93.0  18.0  0.0  82.0\n34  70.0  20.0  0.0  86.0\n35  66.0  19.0  0.0  68.0\n36  63.0  19.0  0.0  63.0\n37  62.0  18.0  0.0  61.0\n38  65.0  17.0  0.0  59.0\n39  87.0  17.0  0.0  62.0\n40  93.0  18.0  0.0  82.0\n41  70.0  20.0  0.0  87.0\n"
        }
      ],
      "execution_count": 27,
      "metadata": {
        "jupyter": {
          "source_hidden": false,
          "outputs_hidden": false
        },
        "nteract": {
          "transient": {
            "deleting": false
          }
        },
        "gather": {
          "logged": 1681127129413
        }
      }
    },
    {
      "cell_type": "markdown",
      "source": [
        "### Historiadatan varianssi ja 95% luottamusväli"
      ],
      "metadata": {
        "nteract": {
          "transient": {
            "deleting": false
          }
        }
      }
    },
    {
      "cell_type": "code",
      "source": [
        "def pc_variance(group, mean):\r\n",
        "    '''\r\n",
        "    Input parameters:\r\n",
        "        group (group DataFrame): patient counts grouped by weekdays\r\n",
        "        mean (group DataFrame): patient count means of weekdays\r\n",
        "    Output parameters:\r\n",
        "        variances (DataFrame): patient count variances of weekdays \r\n",
        "    '''\r\n",
        "    variances = np.zeros([7, 1], dtype=float)\r\n",
        "    for i in range(7):\r\n",
        "        var = 0\r\n",
        "        for p in range(len(group.get_group(i))):\r\n",
        "            ind = group.get_group(i).iloc[p][1:]\r\n",
        "            var += np.power((ind.values - mean.iloc[i].values), 2)\r\n",
        "        variances[i:] = var / len(group.get_group(i))\r\n",
        "    variances = pd.DataFrame(variances, columns=mean.columns, index=mean.index)\r\n",
        "    return variances\r\n"
      ],
      "outputs": [],
      "execution_count": 28,
      "metadata": {
        "jupyter": {
          "source_hidden": false,
          "outputs_hidden": false
        },
        "nteract": {
          "transient": {
            "deleting": false
          }
        },
        "gather": {
          "logged": 1681127129754
        }
      }
    },
    {
      "cell_type": "code",
      "source": [
        "train_variance = df_train_day[['weekday', 'patient_count']].groupby(by='weekday')\r\n",
        "train_pc_mean = train_variance.mean()\r\n",
        "#print(train_pc_mean)\r\n",
        "\r\n",
        "train_pc_var = pc_variance(train_variance, train_pc_mean)\r\n",
        "train_ninety_five_est = np.sqrt(train_pc_var) * 2\r\n",
        "train_ninety_five = pd.DataFrame(train_ninety_five_est).rolling(3, min_periods=1, center=True).mean()\r\n",
        "train_ninety_five.iloc[0, :] = np.mean([train_ninety_five_est.iloc[0, :], train_ninety_five_est.iloc[1, :], train_ninety_five_est.iloc[6, :]], axis=0)\r\n",
        "train_ninety_five.iloc[6, :] = np.mean([train_ninety_five_est.iloc[0, :], train_ninety_five_est.iloc[5, :], train_ninety_five_est.iloc[6, :]], axis=0)\r\n",
        "#print(train_ninety_five)\r\n",
        "\r\n",
        "ward_variance = ward_train_var[['weekday', 'patient_count']].groupby(by='weekday')\r\n",
        "ward_pc_mean = ward_variance.mean()\r\n",
        "#print(ward_pc_mean)\r\n",
        "\r\n",
        "ward_pc_var = pc_variance(ward_variance, ward_pc_mean)\r\n",
        "ward_ninety_five_est = np.sqrt(ward_pc_var) * 2\r\n",
        "ward_ninety_five = pd.DataFrame(ward_ninety_five_est).rolling(3, min_periods=1, center=True).mean()\r\n",
        "ward_ninety_five.iloc[0, :] = np.mean([ward_ninety_five_est.iloc[0, :], ward_ninety_five_est.iloc[1, :], ward_ninety_five_est.iloc[6, :]], axis=0)\r\n",
        "ward_ninety_five.iloc[6, :] = np.mean([ward_ninety_five_est.iloc[0, :], ward_ninety_five_est.iloc[5, :], ward_ninety_five_est.iloc[6, :]], axis=0)\r\n",
        "#print(ward_ninety_five)"
      ],
      "outputs": [],
      "execution_count": 29,
      "metadata": {
        "jupyter": {
          "source_hidden": false,
          "outputs_hidden": false
        },
        "nteract": {
          "transient": {
            "deleting": false
          }
        },
        "gather": {
          "logged": 1681127130002
        }
      }
    },
    {
      "cell_type": "markdown",
      "source": [
        "### Simulaatioiden 95 % luottamusväli"
      ],
      "metadata": {
        "nteract": {
          "transient": {
            "deleting": false
          }
        }
      }
    },
    {
      "cell_type": "code",
      "source": [
        "def dispersion(results_ind, mean, simulations):\r\n",
        "    var = np.zeros([42, 4], dtype=int)\r\n",
        "    results = results_ind.reset_index(drop=True)\r\n",
        "\r\n",
        "    for i in range(simulations):\r\n",
        "        var += (results.loc[i*42:(i+1)*41 + i].reset_index(drop=True) - mean).pow(2)\r\n",
        "    variance = var / simulations\r\n",
        "    std = np.sqrt(variance)\r\n",
        "    return variance, std\r\n",
        "\r\n",
        "variance_results, std_results = dispersion(all_results, final_results, simulations)\r\n",
        "#print(std_results[21:])\r\n",
        "ninetyfive = std_results * 2\r\n",
        "#print(ninetyfive[21:])"
      ],
      "outputs": [],
      "execution_count": 30,
      "metadata": {
        "jupyter": {
          "source_hidden": false,
          "outputs_hidden": false
        },
        "nteract": {
          "transient": {
            "deleting": false
          }
        },
        "gather": {
          "logged": 1681127130285
        }
      }
    },
    {
      "cell_type": "code",
      "source": [
        "def mean_absolute_percentage_error(y_true, y_pred):\r\n",
        "    return np.mean(np.abs((y_true - y_pred) / y_true)) * 100\r\n",
        "\r\n",
        "def mean_absolute_error(y_true, y_pred):\r\n",
        "    return np.mean(np.abs(y_true - y_pred))\r\n",
        "\r\n",
        "def mean_squared_error(y_true, y_pred):\r\n",
        "    return np.mean(np.power((y_true - y_pred), 2))"
      ],
      "outputs": [],
      "execution_count": 31,
      "metadata": {
        "jupyter": {
          "source_hidden": false,
          "outputs_hidden": false
        },
        "nteract": {
          "transient": {
            "deleting": false
          }
        },
        "gather": {
          "logged": 1681127130560
        }
      }
    },
    {
      "cell_type": "markdown",
      "source": [
        "## Tulokset"
      ],
      "metadata": {
        "nteract": {
          "transient": {
            "deleting": false
          }
        }
      }
    },
    {
      "cell_type": "code",
      "source": [
        "mape_ER = mean_absolute_percentage_error(df_test_day.patient_count[21:42].values, final_results['0'][21:42])\r\n",
        "mae_ER = mean_absolute_error(df_test_day.patient_count[21:42].values, final_results['0'][21:42])\r\n",
        "mse_ER = mean_squared_error(df_test_day.patient_count[21:42].values, final_results['0'][21:42])\r\n",
        "rmse_ER = np.sqrt(mse_ER)\r\n",
        "mape_ward = mean_absolute_percentage_error(ward_test_day.patient_count[21:42].values, final_results['1'][21:42])\r\n",
        "mae_ward = mean_absolute_error(ward_test_day.patient_count[21:42].values, final_results['1'][21:42])\r\n",
        "mse_ward = mean_squared_error(ward_test_day.patient_count[21:42].values, final_results['1'][21:42])\r\n",
        "rmse_ward = np.sqrt(mse_ward)\r\n",
        "print('MAPE ER:', mape_ER)\r\n",
        "print('MAE ER:', mae_ER)\r\n",
        "print('MSE ER:', mse_ER)\r\n",
        "print('RMSE ER:', rmse_ER)\r\n",
        "print()\r\n",
        "print('MAPE ward:', mape_ward)\r\n",
        "print('MAE ward:', mae_ward)\r\n",
        "print('MSE ward:', mse_ward)\r\n",
        "print('RMSE ward:', rmse_ward)\r\n",
        "#print(ward_test_day.patient_count[21:42].values)\r\n",
        "#print(list(final_results['1'][21:42]))"
      ],
      "outputs": [
        {
          "output_type": "stream",
          "name": "stdout",
          "text": "MAPE ER: 17.42013668635393\nMAE ER: 16.095238095238095\nMSE ER: 336.57142857142856\nRMSE ER: 18.345883150489882\n\nMAPE ward: 22.700208004555826\nMAE ward: 5.571428571428571\nMSE ward: 36.714285714285715\nRMSE ward: 6.0592314458424275\n"
        }
      ],
      "execution_count": 32,
      "metadata": {
        "jupyter": {
          "source_hidden": false,
          "outputs_hidden": false
        },
        "nteract": {
          "transient": {
            "deleting": false
          }
        },
        "gather": {
          "logged": 1681127130834
        }
      }
    },
    {
      "cell_type": "code",
      "source": [
        "mean_series = final_results['0'][21:42]\r\n",
        "start_weekday = start_day.weekday()\r\n",
        "ninety_five = pd.concat([train_ninety_five.loc[start_weekday:], train_ninety_five, train_ninety_five, train_ninety_five, train_ninety_five, train_ninety_five, train_ninety_five]).reset_index(drop=True)[21:42].squeeze()\r\n",
        "lower_series = final_results['0'][21:42] - ninety_five\r\n",
        "upper_series = final_results['0'][21:42] + ninety_five\r\n",
        "ER_true = df_test_day.patient_count.reset_index(drop=True)[21:42]\r\n",
        "time_range = df_test_day.index[21:42]\r\n",
        "\r\n",
        "plt.rcParams.update({'font.size': 20})\r\n",
        "plt.figure(figsize=(18, 8))\r\n",
        "plt.plot(mean_series, marker='o', linewidth=2)\r\n",
        "plt.plot(ER_true, color='red', marker='o', linewidth=2)\r\n",
        "plt.fill_between(lower_series.index, \r\n",
        "                lower_series, \r\n",
        "                upper_series, \r\n",
        "                color='k', alpha=.15)\r\n",
        "plt.ylim([0, 135])\r\n",
        "plt.xticks(ticks=ER_true.index, labels=pd.date_range(start=time_range[0], end=time_range[-1]).strftime('%d.%m.%Y'), rotation=20)\r\n",
        "plt.locator_params(axis='x', nbins=11)\r\n",
        "plt.title(\"Lasten päivystyksen ennuste 22.01.2019 - 11.02.2019\", fontsize=24)\r\n",
        "plt.legend([\"Ennuste\", \"Toteuma\", \"95% luottamusväli\"], loc =\"lower right\")\r\n",
        "plt.xlabel('Päivämäärä', fontsize=22)\r\n",
        "plt.ylabel('Potilasmäärä', fontsize=22)\r\n",
        "plt.margins(x=0)\r\n",
        "plt.grid(linewidth=0.5)\r\n",
        "plt.show()"
      ],
      "outputs": [
        {
          "output_type": "display_data",
          "data": {
            "text/plain": "<Figure size 1296x576 with 1 Axes>",
            "image/png": "[encoded data removed]"
          },
          "metadata": {
            "needs_background": "light"
          }
        }
      ],
      "execution_count": 35,
      "metadata": {
        "jupyter": {
          "source_hidden": false,
          "outputs_hidden": false
        },
        "nteract": {
          "transient": {
            "deleting": false
          }
        },
        "gather": {
          "logged": 1681127459872
        }
      }
    },
    {
      "cell_type": "code",
      "source": [
        "mean_series = final_results['1'][21:42]\r\n",
        "start_weekday = start_day.weekday()\r\n",
        "ninety_five = pd.concat([ward_ninety_five.loc[start_weekday:], ward_ninety_five, ward_ninety_five, ward_ninety_five, ward_ninety_five, ward_ninety_five, ward_ninety_five]).reset_index(drop=True)[21:42].squeeze()\r\n",
        "lower_series = final_results['1'][21:42] - ninety_five\r\n",
        "upper_series = final_results['1'][21:42] + ninety_five\r\n",
        "new_index = np.arange(21, 42)\r\n",
        "L1_true = ward_test_day.patient_count.reset_index(drop=True)[21:42]\r\n",
        "time_range = df_test_day.index[21:42]\r\n",
        "\r\n",
        "plt.rcParams.update({'font.size': 20})\r\n",
        "plt.figure(figsize=(18, 8))\r\n",
        "plt.plot(mean_series, marker='o', linewidth=2)\r\n",
        "plt.plot(L1_true, color='red', marker='o', linewidth=2)\r\n",
        "plt.fill_between(lower_series.index, \r\n",
        "                lower_series, \r\n",
        "                upper_series, \r\n",
        "                color='k', alpha=.15)\r\n",
        "plt.ylim([0, 35])\r\n",
        "plt.xticks(ticks=L1_true.index, labels=pd.date_range(start=time_range[0], end=time_range[-1]).strftime('%d.%m.%Y'), rotation=20)\r\n",
        "plt.locator_params(axis='x', nbins=11)\r\n",
        "plt.title(\"L1-osaston ennuste 22.01.2019 - 11.02.2019\", fontsize=24)\r\n",
        "plt.legend([\"Ennuste\", \"Toteuma\", \"95% luottamusväli\"], loc =\"upper left\")\r\n",
        "plt.xlabel('Päivämäärä', fontsize=22)\r\n",
        "plt.ylabel('Potilasmäärä', fontsize=22)\r\n",
        "plt.grid(linewidth=0.5)\r\n",
        "plt.margins(x=0)\r\n",
        "plt.show()"
      ],
      "outputs": [
        {
          "output_type": "display_data",
          "data": {
            "text/plain": "<Figure size 1296x576 with 1 Axes>",
            "image/png": "[encoded data removed]"
          },
          "metadata": {
            "needs_background": "light"
          }
        }
      ],
      "execution_count": 34,
      "metadata": {
        "jupyter": {
          "source_hidden": false,
          "outputs_hidden": false
        },
        "nteract": {
          "transient": {
            "deleting": false
          }
        },
        "gather": {
          "logged": 1681127131693
        }
      }
    }
  ],
  "metadata": {
    "kernelspec": {
      "name": "python310-sdkv2",
      "language": "python",
      "display_name": "Python 3.10 - SDK V2"
    },
    "language_info": {
      "name": "python",
      "version": "3.10.6",
      "mimetype": "text/x-python",
      "codemirror_mode": {
        "name": "ipython",
        "version": 3
      },
      "pygments_lexer": "ipython3",
      "nbconvert_exporter": "python",
      "file_extension": ".py"
    },
    "kernel_info": {
      "name": "python310-sdkv2"
    },
    "microsoft": {
      "host": {
        "AzureML": {
          "notebookHasBeenCompleted": true
        }
      },
      "ms_spell_check": {
        "ms_spell_check_language": "en"
      }
    },
    "nteract": {
      "version": "nteract-front-end@1.0.0"
    }
  },
  "nbformat": 4,
  "nbformat_minor": 2
}